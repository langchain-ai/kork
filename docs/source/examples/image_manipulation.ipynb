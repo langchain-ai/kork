{
 "cells": [
  {
   "cell_type": "markdown",
   "id": "5b3b1d10",
   "metadata": {
    "pycharm": {
     "name": "#%% md\n"
    }
   },
   "source": [
    "# Image Manipulation\n",
    "\n",
    "Let's built a simple image manipulation API using Pillow and an LLM!\n",
    "\n",
    "The type of supported operations are limited to the list of functions created.\n",
    "\n",
    "The list of functions was generated using chat gpt (including type annotations and doc-strings).\n",
    "\n",
    "`Kork` doesn't know how to use kwargs yet, so the doc-strings that takes kwargs were modified with an explanation of what default value to use."
   ]
  },
  {
   "cell_type": "code",
   "execution_count": 1,
   "id": "85b99fbe",
   "metadata": {
    "collapsed": false,
    "jupyter": {
     "outputs_hidden": false
    },
    "pycharm": {
     "name": "#%%\n"
    },
    "tags": [
     "remove_cell"
    ]
   },
   "outputs": [],
   "source": [
    "%load_ext autoreload\n",
    "%autoreload 2\n",
    "\n",
    "import sys\n",
    "\n",
    "sys.path.insert(0, \"../\")"
   ]
  },
  {
   "cell_type": "markdown",
   "id": "fb23bdde",
   "metadata": {
    "pycharm": {
     "name": "#%% md\n"
    }
   },
   "source": [
    "Let's install Pillow"
   ]
  },
  {
   "cell_type": "code",
   "execution_count": 2,
   "id": "fff547dd",
   "metadata": {
    "collapsed": false,
    "jupyter": {
     "outputs_hidden": false
    },
    "pycharm": {
     "name": "#%%\n"
    },
    "tags": []
   },
   "outputs": [
    {
     "name": "stdout",
     "output_type": "stream",
     "text": [
      "\n",
      "\u001b[1m[\u001b[0m\u001b[34;49mnotice\u001b[0m\u001b[1;39;49m]\u001b[0m\u001b[39;49m A new release of pip is available: \u001b[0m\u001b[31;49m23.1\u001b[0m\u001b[39;49m -> \u001b[0m\u001b[32;49m23.1.2\u001b[0m\n",
      "\u001b[1m[\u001b[0m\u001b[34;49mnotice\u001b[0m\u001b[1;39;49m]\u001b[0m\u001b[39;49m To update, run: \u001b[0m\u001b[32;49mpython3.10 -m pip install --upgrade pip\u001b[0m\n"
     ]
    }
   ],
   "source": [
    "!pip install Pillow > /dev/null"
   ]
  },
  {
   "cell_type": "code",
   "execution_count": 3,
   "id": "f5d6533a",
   "metadata": {
    "collapsed": false,
    "jupyter": {
     "outputs_hidden": false
    },
    "pycharm": {
     "name": "#%%\n"
    },
    "tags": []
   },
   "outputs": [],
   "source": [
    "from PIL import Image, ImageOps, ImageFilter"
   ]
  },
  {
   "cell_type": "markdown",
   "id": "50c116c4",
   "metadata": {
    "pycharm": {
     "name": "#%% md\n"
    }
   },
   "source": [
    "Let's create a functions manually"
   ]
  },
  {
   "cell_type": "code",
   "execution_count": 4,
   "id": "b406a2b6",
   "metadata": {
    "collapsed": false,
    "jupyter": {
     "outputs_hidden": false
    },
    "pycharm": {
     "name": "#%%\n"
    },
    "tags": []
   },
   "outputs": [],
   "source": [
    "def resize(img: Image.Image, width: int, height: int) -> Image:\n",
    "    \"\"\"Use to resize an image to the given width and height\"\"\"\n",
    "    return img.resize((width, height))\n",
    "\n",
    "\n",
    "def upscale(img: Image.Image, scale: float) -> Image.Image:\n",
    "    \"\"\"Upscale the image by the given scale\"\"\"\n",
    "    height = int(img.height * scale)\n",
    "    width = int(img.width * scale)\n",
    "    return img.resize((width, height))\n",
    "\n",
    "\n",
    "def downscale(img: Image.Image, scale: float) -> Image.Image:\n",
    "    \"\"\"Downscale the image by the given scale\"\"\"\n",
    "    return upscale(img, 1 / scale)\n",
    "\n",
    "\n",
    "def apply_sepia_filter(img: Image.Image) -> Image:\n",
    "    \"\"\"Apply a sepia filter.\"\"\"\n",
    "    # Convert the image to grayscale\n",
    "    grayscale_image = img.convert(\"L\")\n",
    "    # Apply sepia filter\n",
    "    sepia_image = ImageOps.colorize(grayscale_image, \"#704214\", \"#C0C090\")\n",
    "    return sepia_image"
   ]
  },
  {
   "cell_type": "markdown",
   "id": "4b9edeec",
   "metadata": {
    "pycharm": {
     "name": "#%% md\n"
    }
   },
   "source": [
    "Below is a list of functions that was created (mostly) by chat gpt, so we don't have to write a lot of boiler plate by hand."
   ]
  },
  {
   "cell_type": "code",
   "execution_count": 5,
   "id": "fd65000b",
   "metadata": {
    "collapsed": false,
    "jupyter": {
     "outputs_hidden": false
    },
    "pycharm": {
     "name": "#%%\n"
    },
    "tags": []
   },
   "outputs": [],
   "source": [
    "def apply_blur(img: Image.Image, radius: int = 2) -> Image.Image:\n",
    "    \"\"\"Apply a blur filter to the image. Use default radius of 2, if not specified.\n",
    "\n",
    "    Args:\n",
    "        img (Image.Image): The input image.\n",
    "        radius (int): The blur radius. Default is 2.\n",
    "\n",
    "    Returns:\n",
    "        Image.Image: The filtered image.\n",
    "    \"\"\"\n",
    "    return img.filter(ImageFilter.GaussianBlur(radius=radius))\n",
    "\n",
    "\n",
    "def apply_contour(img: Image.Image) -> Image.Image:\n",
    "    \"\"\"Apply a contour filter to the image.\n",
    "\n",
    "    Args:\n",
    "        img (Image.Image): The input image.\n",
    "\n",
    "    Returns:\n",
    "        Image.Image: The filtered image.\n",
    "    \"\"\"\n",
    "    return img.filter(ImageFilter.CONTOUR())\n",
    "\n",
    "\n",
    "def apply_detail(img: Image.Image) -> Image.Image:\n",
    "    \"\"\"Apply a detail filter to the image.\n",
    "\n",
    "    Args:\n",
    "        img (Image.Image): The input image.\n",
    "        detail (int): The level of detail enhancement. Default is 2.\n",
    "\n",
    "    Returns:\n",
    "        Image.Image: The filtered image.\n",
    "    \"\"\"\n",
    "    return img.filter(ImageFilter.DETAIL())\n",
    "\n",
    "\n",
    "def apply_edge_enhance(img: Image.Image) -> Image.Image:\n",
    "    \"\"\"Apply an edge enhance filter to the image.\n",
    "\n",
    "    Args:\n",
    "        img (Image.Image): The input image.\n",
    "\n",
    "    Returns:\n",
    "        Image.Image: The filtered image.\n",
    "    \"\"\"\n",
    "    return img.filter(ImageFilter.EDGE_ENHANCE())\n",
    "\n",
    "\n",
    "def apply_edge_enhance_more(img: Image.Image) -> Image.Image:\n",
    "    \"\"\"Apply a stronger edge enhance filter to the image.\n",
    "\n",
    "    Args:\n",
    "        img (Image.Image): The input image.\n",
    "\n",
    "    Returns:\n",
    "        Image.Image: The filtered image.\n",
    "    \"\"\"\n",
    "    return img.filter(ImageFilter.EDGE_ENHANCE_MORE())\n",
    "\n",
    "\n",
    "def apply_emboss(img: Image.Image) -> Image.Image:\n",
    "    \"\"\"Apply an emboss filter to the image.\n",
    "\n",
    "    Args:\n",
    "        img (Image.Image): The input image.\n",
    "\n",
    "    Returns:\n",
    "        Image.Image: The filtered image.\n",
    "    \"\"\"\n",
    "    return img.filter(ImageFilter.EMBOSS())\n",
    "\n",
    "\n",
    "def apply_find_edges(img: Image.Image) -> Image.Image:\n",
    "    \"\"\"Apply a find edges filter to the image.\n",
    "\n",
    "    Args:\n",
    "        img (Image.Image): The input image.\n",
    "\n",
    "    Returns:\n",
    "        Image.Image: The filtered image.\n",
    "    \"\"\"\n",
    "    return img.filter(ImageFilter.FIND_EDGES())\n",
    "\n",
    "\n",
    "def apply_sharpen(img: Image.Image) -> Image.Image:\n",
    "    \"\"\"Apply a sharpen filter to the image.\n",
    "\n",
    "    Args:\n",
    "        img (Image.Image): The input image.\n",
    "\n",
    "    Returns:\n",
    "        Image.Image: The filtered image.\n",
    "    \"\"\"\n",
    "    return img.filter(ImageFilter.SHARPEN)\n",
    "\n",
    "\n",
    "def apply_smooth(img: Image.Image) -> Image.Image:\n",
    "    \"\"\"Apply a smooth filter to the image.\n",
    "\n",
    "    Args:\n",
    "        img (Image.Image): The input image.\n",
    "\n",
    "    Returns:\n",
    "        Image.Image: The filtered image.\n",
    "    \"\"\"\n",
    "    return img.filter(ImageFilter.SMOOTH())\n",
    "\n",
    "\n",
    "def apply_smooth_more(img: Image.Image) -> Image.Image:\n",
    "    \"\"\"Apply a stronger smooth filter to the image.\n",
    "\n",
    "    Args:\n",
    "        img (Image.Image): The input image.\n",
    "\n",
    "    Returns:\n",
    "        Image.Image: The filtered image.\n",
    "    \"\"\"\n",
    "    return img.filter(ImageFilter.SMOOTH_MORE())"
   ]
  },
  {
   "cell_type": "code",
   "execution_count": 6,
   "id": "01fbafa4",
   "metadata": {
    "collapsed": false,
    "jupyter": {
     "outputs_hidden": false
    },
    "pycharm": {
     "name": "#%%\n"
    },
    "tags": []
   },
   "outputs": [],
   "source": [
    "from typing import List, Any, Optional\n",
    "\n",
    "import langchain\n",
    "from langchain.llms import OpenAI\n",
    "\n",
    "from kork.parser import parse\n",
    "from kork import InterpreterResult, Environment, run_interpreter, CodeChain"
   ]
  },
  {
   "cell_type": "code",
   "execution_count": 7,
   "id": "2127ca65",
   "metadata": {
    "collapsed": false,
    "jupyter": {
     "outputs_hidden": false
    },
    "pycharm": {
     "name": "#%%\n"
    },
    "tags": []
   },
   "outputs": [],
   "source": [
    "llm = OpenAI(temperature=0)"
   ]
  },
  {
   "cell_type": "code",
   "execution_count": 8,
   "id": "a14ceef0",
   "metadata": {
    "collapsed": false,
    "jupyter": {
     "outputs_hidden": false
    },
    "pycharm": {
     "name": "#%%\n"
    },
    "tags": []
   },
   "outputs": [],
   "source": [
    "examples = [\n",
    "    (\"resize the image to (20, 10)\", \"var result = resize(img, 20, 10)\"),\n",
    "    (\"apply sepia filter to the image\", \"var result = apply_sepia_filter(img)\"),\n",
    "]"
   ]
  },
  {
   "cell_type": "code",
   "execution_count": 9,
   "id": "f50f0575",
   "metadata": {
    "collapsed": false,
    "jupyter": {
     "outputs_hidden": false
    },
    "pycharm": {
     "name": "#%%\n"
    },
    "tags": []
   },
   "outputs": [],
   "source": [
    "examples_in_ast = [(query, parse(code)) for query, code in examples]"
   ]
  },
  {
   "cell_type": "markdown",
   "id": "7176d256",
   "metadata": {
    "pycharm": {
     "name": "#%% md\n"
    }
   },
   "source": [
    "Let's get a test image from wikipedia."
   ]
  },
  {
   "cell_type": "code",
   "execution_count": 10,
   "id": "efe98c5d",
   "metadata": {
    "collapsed": false,
    "jupyter": {
     "outputs_hidden": false
    },
    "pycharm": {
     "name": "#%%\n"
    },
    "tags": []
   },
   "outputs": [
    {
     "data": {
      "image/png": "[encoded data removed]",
      "text/plain": [
       "<PIL.Image.Image image mode=RGB size=100x120>"
      ]
     },
     "execution_count": 10,
     "metadata": {},
     "output_type": "execute_result"
    }
   ],
   "source": [
    "from io import BytesIO\n",
    "import requests\n",
    "\n",
    "\n",
    "def get_image(url: str) -> Image.Image:\n",
    "    \"\"\"Get an image from the given URL.\"\"\"\n",
    "    headers = {\n",
    "        \"User-Agent\": \"User-Agent: KorkDemo/0.0 (https://github.com/eyurtsev/kork/tree/main/kork;)\"\n",
    "    }\n",
    "    response = requests.get(url, headers=headers)\n",
    "\n",
    "    # Create a PIL image from the downloaded image data\n",
    "    img = Image.open(BytesIO(response.content))\n",
    "    return img\n",
    "\n",
    "\n",
    "url = \"https://upload.wikimedia.org/wikipedia/commons/thumb/6/68/Orange_tabby_cat_sitting_on_fallen_leaves-Hisashi-01A.jpg/1024px-Orange_tabby_cat_sitting_on_fallen_leaves-Hisashi-01A.jpg\"\n",
    "\n",
    "img = get_image(url)\n",
    "resize(img, 100, 120)"
   ]
  },
  {
   "cell_type": "code",
   "execution_count": 11,
   "id": "cbd4bf04",
   "metadata": {
    "collapsed": false,
    "jupyter": {
     "outputs_hidden": false
    },
    "pycharm": {
     "name": "#%%\n"
    },
    "tags": []
   },
   "outputs": [],
   "source": [
    "funcs = [\n",
    "    apply_blur,\n",
    "    apply_contour,\n",
    "    apply_detail,\n",
    "    apply_edge_enhance,\n",
    "    apply_edge_enhance_more,\n",
    "    apply_emboss,\n",
    "    apply_find_edges,\n",
    "    apply_sharpen,\n",
    "    apply_smooth,\n",
    "    apply_smooth_more,\n",
    "    resize,\n",
    "    apply_sepia_filter,\n",
    "    get_image,\n",
    "    downscale,\n",
    "    upscale,\n",
    "]"
   ]
  },
  {
   "cell_type": "code",
   "execution_count": 12,
   "id": "f25b0f5d",
   "metadata": {
    "collapsed": false,
    "jupyter": {
     "outputs_hidden": false
    },
    "pycharm": {
     "name": "#%%\n"
    },
    "tags": []
   },
   "outputs": [],
   "source": [
    "chain = CodeChain.from_defaults(\n",
    "    llm=llm,\n",
    "    examples=examples_in_ast,\n",
    "    interpreter=run_interpreter,\n",
    "    context=funcs,\n",
    ")"
   ]
  },
  {
   "cell_type": "code",
   "execution_count": 13,
   "id": "27d7d6f8-34f3-4018-8bf2-ce926ba42494",
   "metadata": {
    "tags": []
   },
   "outputs": [],
   "source": [
    "from kork.display import as_html_dict, display_html_results"
   ]
  },
  {
   "cell_type": "code",
   "execution_count": 14,
   "id": "dcec8718-788a-47e5-8f68-e6ddae1a9b9a",
   "metadata": {
    "tags": []
   },
   "outputs": [],
   "source": [
    "queries = [\n",
    "    \"resize the image to 100,100 and smooth it a lot\",\n",
    "    \"resize the image to 100,100 and sharpen\",\n",
    "    \"resize the image to 100, 100 and blur and apply sepia\",\n",
    "    \"resize the image to 100, 80, and then downscale it by another factor of 2x.\",\n",
    "    \"resize the image to 100, 90, and detect edges\",\n",
    "    \"resize the image to 100, 80, detect edges and finally apply sepia.\",\n",
    "]"
   ]
  },
  {
   "cell_type": "code",
   "execution_count": 15,
   "id": "b647147e-a560-493d-a4ff-15fc981a7934",
   "metadata": {
    "tags": []
   },
   "outputs": [],
   "source": [
    "code_results = []\n",
    "for query in queries:\n",
    "    code_results.append(chain(inputs={\"query\": query, \"variables\": {\"img\": img}}))"
   ]
  },
  {
   "cell_type": "code",
   "execution_count": 16,
   "id": "91acb21f-8002-41a7-9e67-96f3f306fe5d",
   "metadata": {
    "tags": []
   },
   "outputs": [],
   "source": [
    "html_results = [\n",
    "    as_html_dict(code_result, result_key=\"result\") for code_result in code_results\n",
    "]"
   ]
  },
  {
   "cell_type": "code",
   "execution_count": 17,
   "id": "85f80108-94da-4bf8-979b-173c6f1d01f5",
   "metadata": {
    "tags": []
   },
   "outputs": [
    {
     "data": {
      "text/html": [
       "<style type=\"text/css\">\n",
       "#T_bb6fb_row0_col0, #T_bb6fb_row0_col1, #T_bb6fb_row0_col2, #T_bb6fb_row1_col0, #T_bb6fb_row1_col1, #T_bb6fb_row1_col2, #T_bb6fb_row2_col0, #T_bb6fb_row2_col1, #T_bb6fb_row2_col2, #T_bb6fb_row3_col0, #T_bb6fb_row3_col1, #T_bb6fb_row3_col2, #T_bb6fb_row4_col0, #T_bb6fb_row4_col1, #T_bb6fb_row4_col2, #T_bb6fb_row5_col0, #T_bb6fb_row5_col1, #T_bb6fb_row5_col2 {\n",
       "  text-align: left;\n",
       "}\n",
       "</style>\n",
       "<table id=\"T_bb6fb\">\n",
       "  <thead>\n",
       "    <tr>\n",
       "      <th class=\"blank level0\" >&nbsp;</th>\n",
       "      <th id=\"T_bb6fb_level0_col0\" class=\"col_heading level0 col0\" >query</th>\n",
       "      <th id=\"T_bb6fb_level0_col1\" class=\"col_heading level0 col1\" >code</th>\n",
       "      <th id=\"T_bb6fb_level0_col2\" class=\"col_heading level0 col2\" >result</th>\n",
       "    </tr>\n",
       "  </thead>\n",
       "  <tbody>\n",
       "    <tr>\n",
       "      <th id=\"T_bb6fb_level0_row0\" class=\"row_heading level0 row0\" >0</th>\n",
       "      <td id=\"T_bb6fb_row0_col0\" class=\"data row0 col0\" >resize the image to 100,100 and smooth<br/>it a lot</td>\n",
       "      <td id=\"T_bb6fb_row0_col1\" class=\"data row0 col1\" ><style>pre { line-height: 125%; }<br/>td.linenos .normal { color: inherit; background-color: transparent; padding-left: 5px; padding-right: 5px; }<br/>span.linenos { color: inherit; background-color: transparent; padding-left: 5px; padding-right: 5px; }<br/>td.linenos .special { color: #000000; background-color: #ffffc0; padding-left: 5px; padding-right: 5px; }<br/>span.linenos.special { color: #000000; background-color: #ffffc0; padding-left: 5px; padding-right: 5px; }<br/>.output_html .hll { background-color: #ffffcc }<br/>.output_html { background: #f8f8f8; }<br/>.output_html .c { color: #3D7B7B; font-style: italic } /* Comment */<br/>.output_html .err { border: 1px solid #FF0000 } /* Error */<br/>.output_html .k { color: #008000; font-weight: bold } /* Keyword */<br/>.output_html .o { color: #666666 } /* Operator */<br/>.output_html .ch { color: #3D7B7B; font-style: italic } /* Comment.Hashbang */<br/>.output_html .cm { color: #3D7B7B; font-style: italic } /* Comment.Multiline */<br/>.output_html .cp { color: #9C6500 } /* Comment.Preproc */<br/>.output_html .cpf { color: #3D7B7B; font-style: italic } /* Comment.PreprocFile */<br/>.output_html .c1 { color: #3D7B7B; font-style: italic } /* Comment.Single */<br/>.output_html .cs { color: #3D7B7B; font-style: italic } /* Comment.Special */<br/>.output_html .gd { color: #A00000 } /* Generic.Deleted */<br/>.output_html .ge { font-style: italic } /* Generic.Emph */<br/>.output_html .gr { color: #E40000 } /* Generic.Error */<br/>.output_html .gh { color: #000080; font-weight: bold } /* Generic.Heading */<br/>.output_html .gi { color: #008400 } /* Generic.Inserted */<br/>.output_html .go { color: #717171 } /* Generic.Output */<br/>.output_html .gp { color: #000080; font-weight: bold } /* Generic.Prompt */<br/>.output_html .gs { font-weight: bold } /* Generic.Strong */<br/>.output_html .gu { color: #800080; font-weight: bold } /* Generic.Subheading */<br/>.output_html .gt { color: #0044DD } /* Generic.Traceback */<br/>.output_html .kc { color: #008000; font-weight: bold } /* Keyword.Constant */<br/>.output_html .kd { color: #008000; font-weight: bold } /* Keyword.Declaration */<br/>.output_html .kn { color: #008000; font-weight: bold } /* Keyword.Namespace */<br/>.output_html .kp { color: #008000 } /* Keyword.Pseudo */<br/>.output_html .kr { color: #008000; font-weight: bold } /* Keyword.Reserved */<br/>.output_html .kt { color: #B00040 } /* Keyword.Type */<br/>.output_html .m { color: #666666 } /* Literal.Number */<br/>.output_html .s { color: #BA2121 } /* Literal.String */<br/>.output_html .na { color: #687822 } /* Name.Attribute */<br/>.output_html .nb { color: #008000 } /* Name.Builtin */<br/>.output_html .nc { color: #0000FF; font-weight: bold } /* Name.Class */<br/>.output_html .no { color: #880000 } /* Name.Constant */<br/>.output_html .nd { color: #AA22FF } /* Name.Decorator */<br/>.output_html .ni { color: #717171; font-weight: bold } /* Name.Entity */<br/>.output_html .ne { color: #CB3F38; font-weight: bold } /* Name.Exception */<br/>.output_html .nf { color: #0000FF } /* Name.Function */<br/>.output_html .nl { color: #767600 } /* Name.Label */<br/>.output_html .nn { color: #0000FF; font-weight: bold } /* Name.Namespace */<br/>.output_html .nt { color: #008000; font-weight: bold } /* Name.Tag */<br/>.output_html .nv { color: #19177C } /* Name.Variable */<br/>.output_html .ow { color: #AA22FF; font-weight: bold } /* Operator.Word */<br/>.output_html .w { color: #bbbbbb } /* Text.Whitespace */<br/>.output_html .mb { color: #666666 } /* Literal.Number.Bin */<br/>.output_html .mf { color: #666666 } /* Literal.Number.Float */<br/>.output_html .mh { color: #666666 } /* Literal.Number.Hex */<br/>.output_html .mi { color: #666666 } /* Literal.Number.Integer */<br/>.output_html .mo { color: #666666 } /* Literal.Number.Oct */<br/>.output_html .sa { color: #BA2121 } /* Literal.String.Affix */<br/>.output_html .sb { color: #BA2121 } /* Literal.String.Backtick */<br/>.output_html .sc { color: #BA2121 } /* Literal.String.Char */<br/>.output_html .dl { color: #BA2121 } /* Literal.String.Delimiter */<br/>.output_html .sd { color: #BA2121; font-style: italic } /* Literal.String.Doc */<br/>.output_html .s2 { color: #BA2121 } /* Literal.String.Double */<br/>.output_html .se { color: #AA5D1F; font-weight: bold } /* Literal.String.Escape */<br/>.output_html .sh { color: #BA2121 } /* Literal.String.Heredoc */<br/>.output_html .si { color: #A45A77; font-weight: bold } /* Literal.String.Interpol */<br/>.output_html .sx { color: #008000 } /* Literal.String.Other */<br/>.output_html .sr { color: #A45A77 } /* Literal.String.Regex */<br/>.output_html .s1 { color: #BA2121 } /* Literal.String.Single */<br/>.output_html .ss { color: #19177C } /* Literal.String.Symbol */<br/>.output_html .bp { color: #008000 } /* Name.Builtin.Pseudo */<br/>.output_html .fm { color: #0000FF } /* Name.Function.Magic */<br/>.output_html .vc { color: #19177C } /* Name.Variable.Class */<br/>.output_html .vg { color: #19177C } /* Name.Variable.Global */<br/>.output_html .vi { color: #19177C } /* Name.Variable.Instance */<br/>.output_html .vm { color: #19177C } /* Name.Variable.Magic */<br/>.output_html .il { color: #666666 } /* Literal.Number.Integer.Long */</style><div class=\"highlight\"><pre><span></span><span class=\"k\">var</span><span class=\"w\"> </span><span class=\"n\">result</span><span class=\"w\"> </span><span class=\"o\">=</span><span class=\"w\"> </span><span class=\"n\">apply_smooth_more</span><span class=\"p\">(</span><br/><span class=\"w\">    </span><span class=\"n\">resize</span><span class=\"p\">(</span><br/><span class=\"w\">        </span><span class=\"n\">img</span><span class=\"p\">,</span><br/><span class=\"w\">        </span><span class=\"mi\">100</span><span class=\"p\">,</span><br/><span class=\"w\">        </span><span class=\"mi\">100</span><br/><span class=\"w\">    </span><span class=\"p\">)</span><br/><span class=\"p\">)</span><br/></pre></div></td>\n",
       "      <td id=\"T_bb6fb_row0_col2\" class=\"data row0 col2\" ><img src=\"data:image/jpeg;base64,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\"></td>\n",
       "    </tr>\n",
       "    <tr>\n",
       "      <th id=\"T_bb6fb_level0_row1\" class=\"row_heading level0 row1\" >1</th>\n",
       "      <td id=\"T_bb6fb_row1_col0\" class=\"data row1 col0\" >resize the image to 100,100 and sharpen</td>\n",
       "      <td id=\"T_bb6fb_row1_col1\" class=\"data row1 col1\" ><style>pre { line-height: 125%; }<br/>td.linenos .normal { color: inherit; background-color: transparent; padding-left: 5px; padding-right: 5px; }<br/>span.linenos { color: inherit; background-color: transparent; padding-left: 5px; padding-right: 5px; }<br/>td.linenos .special { color: #000000; background-color: #ffffc0; padding-left: 5px; padding-right: 5px; }<br/>span.linenos.special { color: #000000; background-color: #ffffc0; padding-left: 5px; padding-right: 5px; }<br/>.output_html .hll { background-color: #ffffcc }<br/>.output_html { background: #f8f8f8; }<br/>.output_html .c { color: #3D7B7B; font-style: italic } /* Comment */<br/>.output_html .err { border: 1px solid #FF0000 } /* Error */<br/>.output_html .k { color: #008000; font-weight: bold } /* Keyword */<br/>.output_html .o { color: #666666 } /* Operator */<br/>.output_html .ch { color: #3D7B7B; font-style: italic } /* Comment.Hashbang */<br/>.output_html .cm { color: #3D7B7B; font-style: italic } /* Comment.Multiline */<br/>.output_html .cp { color: #9C6500 } /* Comment.Preproc */<br/>.output_html .cpf { color: #3D7B7B; font-style: italic } /* Comment.PreprocFile */<br/>.output_html .c1 { color: #3D7B7B; font-style: italic } /* Comment.Single */<br/>.output_html .cs { color: #3D7B7B; font-style: italic } /* Comment.Special */<br/>.output_html .gd { color: #A00000 } /* Generic.Deleted */<br/>.output_html .ge { font-style: italic } /* Generic.Emph */<br/>.output_html .gr { color: #E40000 } /* Generic.Error */<br/>.output_html .gh { color: #000080; font-weight: bold } /* Generic.Heading */<br/>.output_html .gi { color: #008400 } /* Generic.Inserted */<br/>.output_html .go { color: #717171 } /* Generic.Output */<br/>.output_html .gp { color: #000080; font-weight: bold } /* Generic.Prompt */<br/>.output_html .gs { font-weight: bold } /* Generic.Strong */<br/>.output_html .gu { color: #800080; font-weight: bold } /* Generic.Subheading */<br/>.output_html .gt { color: #0044DD } /* Generic.Traceback */<br/>.output_html .kc { color: #008000; font-weight: bold } /* Keyword.Constant */<br/>.output_html .kd { color: #008000; font-weight: bold } /* Keyword.Declaration */<br/>.output_html .kn { color: #008000; font-weight: bold } /* Keyword.Namespace */<br/>.output_html .kp { color: #008000 } /* Keyword.Pseudo */<br/>.output_html .kr { color: #008000; font-weight: bold } /* Keyword.Reserved */<br/>.output_html .kt { color: #B00040 } /* Keyword.Type */<br/>.output_html .m { color: #666666 } /* Literal.Number */<br/>.output_html .s { color: #BA2121 } /* Literal.String */<br/>.output_html .na { color: #687822 } /* Name.Attribute */<br/>.output_html .nb { color: #008000 } /* Name.Builtin */<br/>.output_html .nc { color: #0000FF; font-weight: bold } /* Name.Class */<br/>.output_html .no { color: #880000 } /* Name.Constant */<br/>.output_html .nd { color: #AA22FF } /* Name.Decorator */<br/>.output_html .ni { color: #717171; font-weight: bold } /* Name.Entity */<br/>.output_html .ne { color: #CB3F38; font-weight: bold } /* Name.Exception */<br/>.output_html .nf { color: #0000FF } /* Name.Function */<br/>.output_html .nl { color: #767600 } /* Name.Label */<br/>.output_html .nn { color: #0000FF; font-weight: bold } /* Name.Namespace */<br/>.output_html .nt { color: #008000; font-weight: bold } /* Name.Tag */<br/>.output_html .nv { color: #19177C } /* Name.Variable */<br/>.output_html .ow { color: #AA22FF; font-weight: bold } /* Operator.Word */<br/>.output_html .w { color: #bbbbbb } /* Text.Whitespace */<br/>.output_html .mb { color: #666666 } /* Literal.Number.Bin */<br/>.output_html .mf { color: #666666 } /* Literal.Number.Float */<br/>.output_html .mh { color: #666666 } /* Literal.Number.Hex */<br/>.output_html .mi { color: #666666 } /* Literal.Number.Integer */<br/>.output_html .mo { color: #666666 } /* Literal.Number.Oct */<br/>.output_html .sa { color: #BA2121 } /* Literal.String.Affix */<br/>.output_html .sb { color: #BA2121 } /* Literal.String.Backtick */<br/>.output_html .sc { color: #BA2121 } /* Literal.String.Char */<br/>.output_html .dl { color: #BA2121 } /* Literal.String.Delimiter */<br/>.output_html .sd { color: #BA2121; font-style: italic } /* Literal.String.Doc */<br/>.output_html .s2 { color: #BA2121 } /* Literal.String.Double */<br/>.output_html .se { color: #AA5D1F; font-weight: bold } /* Literal.String.Escape */<br/>.output_html .sh { color: #BA2121 } /* Literal.String.Heredoc */<br/>.output_html .si { color: #A45A77; font-weight: bold } /* Literal.String.Interpol */<br/>.output_html .sx { color: #008000 } /* Literal.String.Other */<br/>.output_html .sr { color: #A45A77 } /* Literal.String.Regex */<br/>.output_html .s1 { color: #BA2121 } /* Literal.String.Single */<br/>.output_html .ss { color: #19177C } /* Literal.String.Symbol */<br/>.output_html .bp { color: #008000 } /* Name.Builtin.Pseudo */<br/>.output_html .fm { color: #0000FF } /* Name.Function.Magic */<br/>.output_html .vc { color: #19177C } /* Name.Variable.Class */<br/>.output_html .vg { color: #19177C } /* Name.Variable.Global */<br/>.output_html .vi { color: #19177C } /* Name.Variable.Instance */<br/>.output_html .vm { color: #19177C } /* Name.Variable.Magic */<br/>.output_html .il { color: #666666 } /* Literal.Number.Integer.Long */</style><div class=\"highlight\"><pre><span></span><span class=\"k\">var</span><span class=\"w\"> </span><span class=\"n\">result</span><span class=\"w\"> </span><span class=\"o\">=</span><span class=\"w\"> </span><span class=\"n\">apply_sharpen</span><span class=\"p\">(</span><br/><span class=\"w\">    </span><span class=\"n\">resize</span><span class=\"p\">(</span><br/><span class=\"w\">        </span><span class=\"n\">img</span><span class=\"p\">,</span><br/><span class=\"w\">        </span><span class=\"mi\">100</span><span class=\"p\">,</span><br/><span class=\"w\">        </span><span class=\"mi\">100</span><br/><span class=\"w\">    </span><span class=\"p\">)</span><br/><span class=\"p\">)</span><br/></pre></div></td>\n",
       "      <td id=\"T_bb6fb_row1_col2\" class=\"data row1 col2\" ><img src=\"data:image/jpeg;base64,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\"></td>\n",
       "    </tr>\n",
       "    <tr>\n",
       "      <th id=\"T_bb6fb_level0_row2\" class=\"row_heading level0 row2\" >2</th>\n",
       "      <td id=\"T_bb6fb_row2_col0\" class=\"data row2 col0\" >resize the image to 100, 100 and blur<br/>and apply sepia</td>\n",
       "      <td id=\"T_bb6fb_row2_col1\" class=\"data row2 col1\" ><style>pre { line-height: 125%; }<br/>td.linenos .normal { color: inherit; background-color: transparent; padding-left: 5px; padding-right: 5px; }<br/>span.linenos { color: inherit; background-color: transparent; padding-left: 5px; padding-right: 5px; }<br/>td.linenos .special { color: #000000; background-color: #ffffc0; padding-left: 5px; padding-right: 5px; }<br/>span.linenos.special { color: #000000; background-color: #ffffc0; padding-left: 5px; padding-right: 5px; }<br/>.output_html .hll { background-color: #ffffcc }<br/>.output_html { background: #f8f8f8; }<br/>.output_html .c { color: #3D7B7B; font-style: italic } /* Comment */<br/>.output_html .err { border: 1px solid #FF0000 } /* Error */<br/>.output_html .k { color: #008000; font-weight: bold } /* Keyword */<br/>.output_html .o { color: #666666 } /* Operator */<br/>.output_html .ch { color: #3D7B7B; font-style: italic } /* Comment.Hashbang */<br/>.output_html .cm { color: #3D7B7B; font-style: italic } /* Comment.Multiline */<br/>.output_html .cp { color: #9C6500 } /* Comment.Preproc */<br/>.output_html .cpf { color: #3D7B7B; font-style: italic } /* Comment.PreprocFile */<br/>.output_html .c1 { color: #3D7B7B; font-style: italic } /* Comment.Single */<br/>.output_html .cs { color: #3D7B7B; font-style: italic } /* Comment.Special */<br/>.output_html .gd { color: #A00000 } /* Generic.Deleted */<br/>.output_html .ge { font-style: italic } /* Generic.Emph */<br/>.output_html .gr { color: #E40000 } /* Generic.Error */<br/>.output_html .gh { color: #000080; font-weight: bold } /* Generic.Heading */<br/>.output_html .gi { color: #008400 } /* Generic.Inserted */<br/>.output_html .go { color: #717171 } /* Generic.Output */<br/>.output_html .gp { color: #000080; font-weight: bold } /* Generic.Prompt */<br/>.output_html .gs { font-weight: bold } /* Generic.Strong */<br/>.output_html .gu { color: #800080; font-weight: bold } /* Generic.Subheading */<br/>.output_html .gt { color: #0044DD } /* Generic.Traceback */<br/>.output_html .kc { color: #008000; font-weight: bold } /* Keyword.Constant */<br/>.output_html .kd { color: #008000; font-weight: bold } /* Keyword.Declaration */<br/>.output_html .kn { color: #008000; font-weight: bold } /* Keyword.Namespace */<br/>.output_html .kp { color: #008000 } /* Keyword.Pseudo */<br/>.output_html .kr { color: #008000; font-weight: bold } /* Keyword.Reserved */<br/>.output_html .kt { color: #B00040 } /* Keyword.Type */<br/>.output_html .m { color: #666666 } /* Literal.Number */<br/>.output_html .s { color: #BA2121 } /* Literal.String */<br/>.output_html .na { color: #687822 } /* Name.Attribute */<br/>.output_html .nb { color: #008000 } /* Name.Builtin */<br/>.output_html .nc { color: #0000FF; font-weight: bold } /* Name.Class */<br/>.output_html .no { color: #880000 } /* Name.Constant */<br/>.output_html .nd { color: #AA22FF } /* Name.Decorator */<br/>.output_html .ni { color: #717171; font-weight: bold } /* Name.Entity */<br/>.output_html .ne { color: #CB3F38; font-weight: bold } /* Name.Exception */<br/>.output_html .nf { color: #0000FF } /* Name.Function */<br/>.output_html .nl { color: #767600 } /* Name.Label */<br/>.output_html .nn { color: #0000FF; font-weight: bold } /* Name.Namespace */<br/>.output_html .nt { color: #008000; font-weight: bold } /* Name.Tag */<br/>.output_html .nv { color: #19177C } /* Name.Variable */<br/>.output_html .ow { color: #AA22FF; font-weight: bold } /* Operator.Word */<br/>.output_html .w { color: #bbbbbb } /* Text.Whitespace */<br/>.output_html .mb { color: #666666 } /* Literal.Number.Bin */<br/>.output_html .mf { color: #666666 } /* Literal.Number.Float */<br/>.output_html .mh { color: #666666 } /* Literal.Number.Hex */<br/>.output_html .mi { color: #666666 } /* Literal.Number.Integer */<br/>.output_html .mo { color: #666666 } /* Literal.Number.Oct */<br/>.output_html .sa { color: #BA2121 } /* Literal.String.Affix */<br/>.output_html .sb { color: #BA2121 } /* Literal.String.Backtick */<br/>.output_html .sc { color: #BA2121 } /* Literal.String.Char */<br/>.output_html .dl { color: #BA2121 } /* Literal.String.Delimiter */<br/>.output_html .sd { color: #BA2121; font-style: italic } /* Literal.String.Doc */<br/>.output_html .s2 { color: #BA2121 } /* Literal.String.Double */<br/>.output_html .se { color: #AA5D1F; font-weight: bold } /* Literal.String.Escape */<br/>.output_html .sh { color: #BA2121 } /* Literal.String.Heredoc */<br/>.output_html .si { color: #A45A77; font-weight: bold } /* Literal.String.Interpol */<br/>.output_html .sx { color: #008000 } /* Literal.String.Other */<br/>.output_html .sr { color: #A45A77 } /* Literal.String.Regex */<br/>.output_html .s1 { color: #BA2121 } /* Literal.String.Single */<br/>.output_html .ss { color: #19177C } /* Literal.String.Symbol */<br/>.output_html .bp { color: #008000 } /* Name.Builtin.Pseudo */<br/>.output_html .fm { color: #0000FF } /* Name.Function.Magic */<br/>.output_html .vc { color: #19177C } /* Name.Variable.Class */<br/>.output_html .vg { color: #19177C } /* Name.Variable.Global */<br/>.output_html .vi { color: #19177C } /* Name.Variable.Instance */<br/>.output_html .vm { color: #19177C } /* Name.Variable.Magic */<br/>.output_html .il { color: #666666 } /* Literal.Number.Integer.Long */</style><div class=\"highlight\"><pre><span></span><span class=\"k\">var</span><span class=\"w\"> </span><span class=\"n\">result</span><span class=\"w\"> </span><span class=\"o\">=</span><span class=\"w\"> </span><span class=\"n\">apply_sepia_filter</span><span class=\"p\">(</span><br/><span class=\"w\">    </span><span class=\"n\">apply_blur</span><span class=\"p\">(</span><br/><span class=\"w\">        </span><span class=\"n\">resize</span><span class=\"p\">(</span><br/><span class=\"w\">            </span><span class=\"n\">img</span><span class=\"p\">,</span><br/><span class=\"w\">            </span><span class=\"mi\">100</span><span class=\"p\">,</span><br/><span class=\"w\">            </span><span class=\"mi\">100</span><br/><span class=\"w\">        </span><span class=\"p\">)</span><br/><span class=\"w\">    </span><span class=\"p\">)</span><br/><span class=\"p\">)</span><br/></pre></div></td>\n",
       "      <td id=\"T_bb6fb_row2_col2\" class=\"data row2 col2\" ><img src=\"data:image/jpeg;base64,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\"></td>\n",
       "    </tr>\n",
       "    <tr>\n",
       "      <th id=\"T_bb6fb_level0_row3\" class=\"row_heading level0 row3\" >3</th>\n",
       "      <td id=\"T_bb6fb_row3_col0\" class=\"data row3 col0\" >resize the image to 100, 80, and then<br/>downscale it by another factor of 2x.</td>\n",
       "      <td id=\"T_bb6fb_row3_col1\" class=\"data row3 col1\" ><style>pre { line-height: 125%; }<br/>td.linenos .normal { color: inherit; background-color: transparent; padding-left: 5px; padding-right: 5px; }<br/>span.linenos { color: inherit; background-color: transparent; padding-left: 5px; padding-right: 5px; }<br/>td.linenos .special { color: #000000; background-color: #ffffc0; padding-left: 5px; padding-right: 5px; }<br/>span.linenos.special { color: #000000; background-color: #ffffc0; padding-left: 5px; padding-right: 5px; }<br/>.output_html .hll { background-color: #ffffcc }<br/>.output_html { background: #f8f8f8; }<br/>.output_html .c { color: #3D7B7B; font-style: italic } /* Comment */<br/>.output_html .err { border: 1px solid #FF0000 } /* Error */<br/>.output_html .k { color: #008000; font-weight: bold } /* Keyword */<br/>.output_html .o { color: #666666 } /* Operator */<br/>.output_html .ch { color: #3D7B7B; font-style: italic } /* Comment.Hashbang */<br/>.output_html .cm { color: #3D7B7B; font-style: italic } /* Comment.Multiline */<br/>.output_html .cp { color: #9C6500 } /* Comment.Preproc */<br/>.output_html .cpf { color: #3D7B7B; font-style: italic } /* Comment.PreprocFile */<br/>.output_html .c1 { color: #3D7B7B; font-style: italic } /* Comment.Single */<br/>.output_html .cs { color: #3D7B7B; font-style: italic } /* Comment.Special */<br/>.output_html .gd { color: #A00000 } /* Generic.Deleted */<br/>.output_html .ge { font-style: italic } /* Generic.Emph */<br/>.output_html .gr { color: #E40000 } /* Generic.Error */<br/>.output_html .gh { color: #000080; font-weight: bold } /* Generic.Heading */<br/>.output_html .gi { color: #008400 } /* Generic.Inserted */<br/>.output_html .go { color: #717171 } /* Generic.Output */<br/>.output_html .gp { color: #000080; font-weight: bold } /* Generic.Prompt */<br/>.output_html .gs { font-weight: bold } /* Generic.Strong */<br/>.output_html .gu { color: #800080; font-weight: bold } /* Generic.Subheading */<br/>.output_html .gt { color: #0044DD } /* Generic.Traceback */<br/>.output_html .kc { color: #008000; font-weight: bold } /* Keyword.Constant */<br/>.output_html .kd { color: #008000; font-weight: bold } /* Keyword.Declaration */<br/>.output_html .kn { color: #008000; font-weight: bold } /* Keyword.Namespace */<br/>.output_html .kp { color: #008000 } /* Keyword.Pseudo */<br/>.output_html .kr { color: #008000; font-weight: bold } /* Keyword.Reserved */<br/>.output_html .kt { color: #B00040 } /* Keyword.Type */<br/>.output_html .m { color: #666666 } /* Literal.Number */<br/>.output_html .s { color: #BA2121 } /* Literal.String */<br/>.output_html .na { color: #687822 } /* Name.Attribute */<br/>.output_html .nb { color: #008000 } /* Name.Builtin */<br/>.output_html .nc { color: #0000FF; font-weight: bold } /* Name.Class */<br/>.output_html .no { color: #880000 } /* Name.Constant */<br/>.output_html .nd { color: #AA22FF } /* Name.Decorator */<br/>.output_html .ni { color: #717171; font-weight: bold } /* Name.Entity */<br/>.output_html .ne { color: #CB3F38; font-weight: bold } /* Name.Exception */<br/>.output_html .nf { color: #0000FF } /* Name.Function */<br/>.output_html .nl { color: #767600 } /* Name.Label */<br/>.output_html .nn { color: #0000FF; font-weight: bold } /* Name.Namespace */<br/>.output_html .nt { color: #008000; font-weight: bold } /* Name.Tag */<br/>.output_html .nv { color: #19177C } /* Name.Variable */<br/>.output_html .ow { color: #AA22FF; font-weight: bold } /* Operator.Word */<br/>.output_html .w { color: #bbbbbb } /* Text.Whitespace */<br/>.output_html .mb { color: #666666 } /* Literal.Number.Bin */<br/>.output_html .mf { color: #666666 } /* Literal.Number.Float */<br/>.output_html .mh { color: #666666 } /* Literal.Number.Hex */<br/>.output_html .mi { color: #666666 } /* Literal.Number.Integer */<br/>.output_html .mo { color: #666666 } /* Literal.Number.Oct */<br/>.output_html .sa { color: #BA2121 } /* Literal.String.Affix */<br/>.output_html .sb { color: #BA2121 } /* Literal.String.Backtick */<br/>.output_html .sc { color: #BA2121 } /* Literal.String.Char */<br/>.output_html .dl { color: #BA2121 } /* Literal.String.Delimiter */<br/>.output_html .sd { color: #BA2121; font-style: italic } /* Literal.String.Doc */<br/>.output_html .s2 { color: #BA2121 } /* Literal.String.Double */<br/>.output_html .se { color: #AA5D1F; font-weight: bold } /* Literal.String.Escape */<br/>.output_html .sh { color: #BA2121 } /* Literal.String.Heredoc */<br/>.output_html .si { color: #A45A77; font-weight: bold } /* Literal.String.Interpol */<br/>.output_html .sx { color: #008000 } /* Literal.String.Other */<br/>.output_html .sr { color: #A45A77 } /* Literal.String.Regex */<br/>.output_html .s1 { color: #BA2121 } /* Literal.String.Single */<br/>.output_html .ss { color: #19177C } /* Literal.String.Symbol */<br/>.output_html .bp { color: #008000 } /* Name.Builtin.Pseudo */<br/>.output_html .fm { color: #0000FF } /* Name.Function.Magic */<br/>.output_html .vc { color: #19177C } /* Name.Variable.Class */<br/>.output_html .vg { color: #19177C } /* Name.Variable.Global */<br/>.output_html .vi { color: #19177C } /* Name.Variable.Instance */<br/>.output_html .vm { color: #19177C } /* Name.Variable.Magic */<br/>.output_html .il { color: #666666 } /* Literal.Number.Integer.Long */</style><div class=\"highlight\"><pre><span></span><span class=\"k\">var</span><span class=\"w\"> </span><span class=\"n\">result</span><span class=\"w\"> </span><span class=\"o\">=</span><span class=\"w\"> </span><span class=\"n\">downscale</span><span class=\"p\">(</span><br/><span class=\"w\">    </span><span class=\"n\">resize</span><span class=\"p\">(</span><br/><span class=\"w\">        </span><span class=\"n\">img</span><span class=\"p\">,</span><br/><span class=\"w\">        </span><span class=\"mi\">100</span><span class=\"p\">,</span><br/><span class=\"w\">        </span><span class=\"mi\">80</span><br/><span class=\"w\">    </span><span class=\"p\">),</span><br/><span class=\"w\">    </span><span class=\"mi\">2</span><br/><span class=\"p\">)</span><br/></pre></div></td>\n",
       "      <td id=\"T_bb6fb_row3_col2\" class=\"data row3 col2\" ><img src=\"data:image/jpeg;base64,/9j/4AAQSkZJRgABAQAAAQABAAD//gBvRmlsZSBzb3VyY2U6IGh0dHA6Ly9jb21tb25zLndpa2ltZWRpYS5vcmcvd2lraS9GaWxlOk9yYW5nZV90YWJieV9jYXRfc2l0dGluZ19vbl9mYWxsZW5fbGVhdmVzLUhpc2FzaGktMDFBLmpwZ//bAEMACAYGBwYFCAcHBwkJCAoMFA0MCwsMGRITDxQdGh8eHRocHCAkLicgIiwjHBwoNyksMDE0NDQfJzk9ODI8LjM0Mv/bAEMBCQkJDAsMGA0NGDIhHCEyMjIyMjIyMjIyMjIyMjIyMjIyMjIyMjIyMjIyMjIyMjIyMjIyMjIyMjIyMjIyMjIyMv/AABEIACgAMgMBIgACEQEDEQH/xAAfAAABBQEBAQEBAQAAAAAAAAAAAQIDBAUGBwgJCgv/xAC1EAACAQMDAgQDBQUEBAAAAX0BAgMABBEFEiExQQYTUWEHInEUMoGRoQgjQrHBFVLR8CQzYnKCCQoWFxgZGiUmJygpKjQ1Njc4OTpDREVGR0hJSlNUVVZXWFlaY2RlZmdoaWpzdHV2d3h5eoOEhYaHiImKkpOUlZaXmJmaoqOkpaanqKmqsrO0tba3uLm6wsPExcbHyMnK0tPU1dbX2Nna4eLj5OXm5+jp6vHy8/T19vf4+fr/xAAfAQADAQEBAQEBAQEBAAAAAAAAAQIDBAUGBwgJCgv/xAC1EQACAQIEBAMEBwUEBAABAncAAQIDEQQFITEGEkFRB2FxEyIygQgUQpGhscEJIzNS8BVictEKFiQ04SXxFxgZGiYnKCkqNTY3ODk6Q0RFRkdISUpTVFVWV1hZWmNkZWZnaGlqc3R1dnd4eXqCg4SFhoeIiYqSk5SVlpeYmZqio6Slpqeoqaqys7S1tre4ubrCw8TFxsfIycrS09TV1tfY2dri4+Tl5ufo6ery8/T19vf4+fr/2gAMAwEAAhEDEQA/AIbe/Ry5a4lbnCZOPzqSXUIYAVaddx5POOayftaSARhrjYzEuZlYE+gyR/KlhecSsot4ydw2DAbK49DyTWbTuOzN+2vGniYwyBpCC3lxkHIHscVMt3IFCxqeo3Ls6k+9Ylix1DVrZEgkSWSZY4dsLLznHrgfXHSux1bwzPZWH+kSiO+mk/dCNCyKB/fI6ZqJynF2irmsIQkvedjE/tN/NwA0Ugzld/YdcmgX0YXcqqWzuO856+h71Vk0XULG3vNSltoBHDAVALBgwJGTgZHqazYftHlPPHFC8aqNzKuS4xxjjGaum217ysKpGKfus2TqD54QfpRWCur6qqgKsKgDAUg8e3WitDOxG03myRERoI/KaPe0odtx6DZnNQ+a1jAN96zRD5OMK2een05qjaX0iXqzzBFgKZlKj5ifQYHA+nNJbj7I0JMCxpJIPNdWGSOBkgEY78ZPvUjO18KMC0GqFXVhLi3yMbyBnd9McV6nb+KtMvbUpOw+0KB5kW05Hoa5KXS5JJIDZRK1mB8vlD5QMcEYrNt7tbLUXtmtiHkOY2LBizf3f/11xU603VfNojrnSh7NW3N7V9ctrwz6TYqI55I2XfImApIwMfp+deVWN3PaXEslxMY5kYr9llRsNt9Px7V0d7Jdz6nGsC3KtLMrSv12BecDHTpisb4itFa6lZiO4+zzzKJp1UYORwGzjv6V0U6jm79DGcFBW6lR7+2ndpvPtR5h3YyR15opwvImG4XWkYPPIP8AhRW5ic3ea1f6dALM6hEUcndJErMQfqeDUTX1vdyIk8cNxhBsWQeWuPXco5NFFSUdJ4X8dal4UeOGRprrTSxP2ZdoC56bWPOPbFd5e/ETwRLq1jdfZrxZbRvNYR2RJZipAGO3Jz+FFFLcDm9T+IOmy69dTPa3Rs5FBtQ58rDY53cEZBz61w1zINSu57i8uDLvAWSaEmRj356ZxxRRVXJLi+IdPhURf2TbtsG3cQMnHeiiilcdj//Z\"></td>\n",
       "    </tr>\n",
       "    <tr>\n",
       "      <th id=\"T_bb6fb_level0_row4\" class=\"row_heading level0 row4\" >4</th>\n",
       "      <td id=\"T_bb6fb_row4_col0\" class=\"data row4 col0\" >resize the image to 100, 90, and detect<br/>edges</td>\n",
       "      <td id=\"T_bb6fb_row4_col1\" class=\"data row4 col1\" ><style>pre { line-height: 125%; }<br/>td.linenos .normal { color: inherit; background-color: transparent; padding-left: 5px; padding-right: 5px; }<br/>span.linenos { color: inherit; background-color: transparent; padding-left: 5px; padding-right: 5px; }<br/>td.linenos .special { color: #000000; background-color: #ffffc0; padding-left: 5px; padding-right: 5px; }<br/>span.linenos.special { color: #000000; background-color: #ffffc0; padding-left: 5px; padding-right: 5px; }<br/>.output_html .hll { background-color: #ffffcc }<br/>.output_html { background: #f8f8f8; }<br/>.output_html .c { color: #3D7B7B; font-style: italic } /* Comment */<br/>.output_html .err { border: 1px solid #FF0000 } /* Error */<br/>.output_html .k { color: #008000; font-weight: bold } /* Keyword */<br/>.output_html .o { color: #666666 } /* Operator */<br/>.output_html .ch { color: #3D7B7B; font-style: italic } /* Comment.Hashbang */<br/>.output_html .cm { color: #3D7B7B; font-style: italic } /* Comment.Multiline */<br/>.output_html .cp { color: #9C6500 } /* Comment.Preproc */<br/>.output_html .cpf { color: #3D7B7B; font-style: italic } /* Comment.PreprocFile */<br/>.output_html .c1 { color: #3D7B7B; font-style: italic } /* Comment.Single */<br/>.output_html .cs { color: #3D7B7B; font-style: italic } /* Comment.Special */<br/>.output_html .gd { color: #A00000 } /* Generic.Deleted */<br/>.output_html .ge { font-style: italic } /* Generic.Emph */<br/>.output_html .gr { color: #E40000 } /* Generic.Error */<br/>.output_html .gh { color: #000080; font-weight: bold } /* Generic.Heading */<br/>.output_html .gi { color: #008400 } /* Generic.Inserted */<br/>.output_html .go { color: #717171 } /* Generic.Output */<br/>.output_html .gp { color: #000080; font-weight: bold } /* Generic.Prompt */<br/>.output_html .gs { font-weight: bold } /* Generic.Strong */<br/>.output_html .gu { color: #800080; font-weight: bold } /* Generic.Subheading */<br/>.output_html .gt { color: #0044DD } /* Generic.Traceback */<br/>.output_html .kc { color: #008000; font-weight: bold } /* Keyword.Constant */<br/>.output_html .kd { color: #008000; font-weight: bold } /* Keyword.Declaration */<br/>.output_html .kn { color: #008000; font-weight: bold } /* Keyword.Namespace */<br/>.output_html .kp { color: #008000 } /* Keyword.Pseudo */<br/>.output_html .kr { color: #008000; font-weight: bold } /* Keyword.Reserved */<br/>.output_html .kt { color: #B00040 } /* Keyword.Type */<br/>.output_html .m { color: #666666 } /* Literal.Number */<br/>.output_html .s { color: #BA2121 } /* Literal.String */<br/>.output_html .na { color: #687822 } /* Name.Attribute */<br/>.output_html .nb { color: #008000 } /* Name.Builtin */<br/>.output_html .nc { color: #0000FF; font-weight: bold } /* Name.Class */<br/>.output_html .no { color: #880000 } /* Name.Constant */<br/>.output_html .nd { color: #AA22FF } /* Name.Decorator */<br/>.output_html .ni { color: #717171; font-weight: bold } /* Name.Entity */<br/>.output_html .ne { color: #CB3F38; font-weight: bold } /* Name.Exception */<br/>.output_html .nf { color: #0000FF } /* Name.Function */<br/>.output_html .nl { color: #767600 } /* Name.Label */<br/>.output_html .nn { color: #0000FF; font-weight: bold } /* Name.Namespace */<br/>.output_html .nt { color: #008000; font-weight: bold } /* Name.Tag */<br/>.output_html .nv { color: #19177C } /* Name.Variable */<br/>.output_html .ow { color: #AA22FF; font-weight: bold } /* Operator.Word */<br/>.output_html .w { color: #bbbbbb } /* Text.Whitespace */<br/>.output_html .mb { color: #666666 } /* Literal.Number.Bin */<br/>.output_html .mf { color: #666666 } /* Literal.Number.Float */<br/>.output_html .mh { color: #666666 } /* Literal.Number.Hex */<br/>.output_html .mi { color: #666666 } /* Literal.Number.Integer */<br/>.output_html .mo { color: #666666 } /* Literal.Number.Oct */<br/>.output_html .sa { color: #BA2121 } /* Literal.String.Affix */<br/>.output_html .sb { color: #BA2121 } /* Literal.String.Backtick */<br/>.output_html .sc { color: #BA2121 } /* Literal.String.Char */<br/>.output_html .dl { color: #BA2121 } /* Literal.String.Delimiter */<br/>.output_html .sd { color: #BA2121; font-style: italic } /* Literal.String.Doc */<br/>.output_html .s2 { color: #BA2121 } /* Literal.String.Double */<br/>.output_html .se { color: #AA5D1F; font-weight: bold } /* Literal.String.Escape */<br/>.output_html .sh { color: #BA2121 } /* Literal.String.Heredoc */<br/>.output_html .si { color: #A45A77; font-weight: bold } /* Literal.String.Interpol */<br/>.output_html .sx { color: #008000 } /* Literal.String.Other */<br/>.output_html .sr { color: #A45A77 } /* Literal.String.Regex */<br/>.output_html .s1 { color: #BA2121 } /* Literal.String.Single */<br/>.output_html .ss { color: #19177C } /* Literal.String.Symbol */<br/>.output_html .bp { color: #008000 } /* Name.Builtin.Pseudo */<br/>.output_html .fm { color: #0000FF } /* Name.Function.Magic */<br/>.output_html .vc { color: #19177C } /* Name.Variable.Class */<br/>.output_html .vg { color: #19177C } /* Name.Variable.Global */<br/>.output_html .vi { color: #19177C } /* Name.Variable.Instance */<br/>.output_html .vm { color: #19177C } /* Name.Variable.Magic */<br/>.output_html .il { color: #666666 } /* Literal.Number.Integer.Long */</style><div class=\"highlight\"><pre><span></span><span class=\"k\">var</span><span class=\"w\"> </span><span class=\"n\">result</span><span class=\"w\"> </span><span class=\"o\">=</span><span class=\"w\"> </span><span class=\"n\">apply_find_edges</span><span class=\"p\">(</span><br/><span class=\"w\">    </span><span class=\"n\">resize</span><span class=\"p\">(</span><br/><span class=\"w\">        </span><span class=\"n\">img</span><span class=\"p\">,</span><br/><span class=\"w\">        </span><span class=\"mi\">100</span><span class=\"p\">,</span><br/><span class=\"w\">        </span><span class=\"mi\">90</span><br/><span class=\"w\">    </span><span class=\"p\">)</span><br/><span class=\"p\">)</span><br/></pre></div></td>\n",
       "      <td id=\"T_bb6fb_row4_col2\" class=\"data row4 col2\" ><img src=\"data:image/jpeg;base64,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\"></td>\n",
       "    </tr>\n",
       "    <tr>\n",
       "      <th id=\"T_bb6fb_level0_row5\" class=\"row_heading level0 row5\" >5</th>\n",
       "      <td id=\"T_bb6fb_row5_col0\" class=\"data row5 col0\" >resize the image to 100, 80, detect<br/>edges and finally apply sepia.</td>\n",
       "      <td id=\"T_bb6fb_row5_col1\" class=\"data row5 col1\" ><style>pre { line-height: 125%; }<br/>td.linenos .normal { color: inherit; background-color: transparent; padding-left: 5px; padding-right: 5px; }<br/>span.linenos { color: inherit; background-color: transparent; padding-left: 5px; padding-right: 5px; }<br/>td.linenos .special { color: #000000; background-color: #ffffc0; padding-left: 5px; padding-right: 5px; }<br/>span.linenos.special { color: #000000; background-color: #ffffc0; padding-left: 5px; padding-right: 5px; }<br/>.output_html .hll { background-color: #ffffcc }<br/>.output_html { background: #f8f8f8; }<br/>.output_html .c { color: #3D7B7B; font-style: italic } /* Comment */<br/>.output_html .err { border: 1px solid #FF0000 } /* Error */<br/>.output_html .k { color: #008000; font-weight: bold } /* Keyword */<br/>.output_html .o { color: #666666 } /* Operator */<br/>.output_html .ch { color: #3D7B7B; font-style: italic } /* Comment.Hashbang */<br/>.output_html .cm { color: #3D7B7B; font-style: italic } /* Comment.Multiline */<br/>.output_html .cp { color: #9C6500 } /* Comment.Preproc */<br/>.output_html .cpf { color: #3D7B7B; font-style: italic } /* Comment.PreprocFile */<br/>.output_html .c1 { color: #3D7B7B; font-style: italic } /* Comment.Single */<br/>.output_html .cs { color: #3D7B7B; font-style: italic } /* Comment.Special */<br/>.output_html .gd { color: #A00000 } /* Generic.Deleted */<br/>.output_html .ge { font-style: italic } /* Generic.Emph */<br/>.output_html .gr { color: #E40000 } /* Generic.Error */<br/>.output_html .gh { color: #000080; font-weight: bold } /* Generic.Heading */<br/>.output_html .gi { color: #008400 } /* Generic.Inserted */<br/>.output_html .go { color: #717171 } /* Generic.Output */<br/>.output_html .gp { color: #000080; font-weight: bold } /* Generic.Prompt */<br/>.output_html .gs { font-weight: bold } /* Generic.Strong */<br/>.output_html .gu { color: #800080; font-weight: bold } /* Generic.Subheading */<br/>.output_html .gt { color: #0044DD } /* Generic.Traceback */<br/>.output_html .kc { color: #008000; font-weight: bold } /* Keyword.Constant */<br/>.output_html .kd { color: #008000; font-weight: bold } /* Keyword.Declaration */<br/>.output_html .kn { color: #008000; font-weight: bold } /* Keyword.Namespace */<br/>.output_html .kp { color: #008000 } /* Keyword.Pseudo */<br/>.output_html .kr { color: #008000; font-weight: bold } /* Keyword.Reserved */<br/>.output_html .kt { color: #B00040 } /* Keyword.Type */<br/>.output_html .m { color: #666666 } /* Literal.Number */<br/>.output_html .s { color: #BA2121 } /* Literal.String */<br/>.output_html .na { color: #687822 } /* Name.Attribute */<br/>.output_html .nb { color: #008000 } /* Name.Builtin */<br/>.output_html .nc { color: #0000FF; font-weight: bold } /* Name.Class */<br/>.output_html .no { color: #880000 } /* Name.Constant */<br/>.output_html .nd { color: #AA22FF } /* Name.Decorator */<br/>.output_html .ni { color: #717171; font-weight: bold } /* Name.Entity */<br/>.output_html .ne { color: #CB3F38; font-weight: bold } /* Name.Exception */<br/>.output_html .nf { color: #0000FF } /* Name.Function */<br/>.output_html .nl { color: #767600 } /* Name.Label */<br/>.output_html .nn { color: #0000FF; font-weight: bold } /* Name.Namespace */<br/>.output_html .nt { color: #008000; font-weight: bold } /* Name.Tag */<br/>.output_html .nv { color: #19177C } /* Name.Variable */<br/>.output_html .ow { color: #AA22FF; font-weight: bold } /* Operator.Word */<br/>.output_html .w { color: #bbbbbb } /* Text.Whitespace */<br/>.output_html .mb { color: #666666 } /* Literal.Number.Bin */<br/>.output_html .mf { color: #666666 } /* Literal.Number.Float */<br/>.output_html .mh { color: #666666 } /* Literal.Number.Hex */<br/>.output_html .mi { color: #666666 } /* Literal.Number.Integer */<br/>.output_html .mo { color: #666666 } /* Literal.Number.Oct */<br/>.output_html .sa { color: #BA2121 } /* Literal.String.Affix */<br/>.output_html .sb { color: #BA2121 } /* Literal.String.Backtick */<br/>.output_html .sc { color: #BA2121 } /* Literal.String.Char */<br/>.output_html .dl { color: #BA2121 } /* Literal.String.Delimiter */<br/>.output_html .sd { color: #BA2121; font-style: italic } /* Literal.String.Doc */<br/>.output_html .s2 { color: #BA2121 } /* Literal.String.Double */<br/>.output_html .se { color: #AA5D1F; font-weight: bold } /* Literal.String.Escape */<br/>.output_html .sh { color: #BA2121 } /* Literal.String.Heredoc */<br/>.output_html .si { color: #A45A77; font-weight: bold } /* Literal.String.Interpol */<br/>.output_html .sx { color: #008000 } /* Literal.String.Other */<br/>.output_html .sr { color: #A45A77 } /* Literal.String.Regex */<br/>.output_html .s1 { color: #BA2121 } /* Literal.String.Single */<br/>.output_html .ss { color: #19177C } /* Literal.String.Symbol */<br/>.output_html .bp { color: #008000 } /* Name.Builtin.Pseudo */<br/>.output_html .fm { color: #0000FF } /* Name.Function.Magic */<br/>.output_html .vc { color: #19177C } /* Name.Variable.Class */<br/>.output_html .vg { color: #19177C } /* Name.Variable.Global */<br/>.output_html .vi { color: #19177C } /* Name.Variable.Instance */<br/>.output_html .vm { color: #19177C } /* Name.Variable.Magic */<br/>.output_html .il { color: #666666 } /* Literal.Number.Integer.Long */</style><div class=\"highlight\"><pre><span></span><span class=\"k\">var</span><span class=\"w\"> </span><span class=\"n\">result</span><span class=\"w\"> </span><span class=\"o\">=</span><span class=\"w\"> </span><span class=\"n\">apply_sepia_filter</span><span class=\"p\">(</span><br/><span class=\"w\">    </span><span class=\"n\">apply_find_edges</span><span class=\"p\">(</span><br/><span class=\"w\">        </span><span class=\"n\">resize</span><span class=\"p\">(</span><br/><span class=\"w\">            </span><span class=\"n\">img</span><span class=\"p\">,</span><br/><span class=\"w\">            </span><span class=\"mi\">100</span><span class=\"p\">,</span><br/><span class=\"w\">            </span><span class=\"mi\">80</span><br/><span class=\"w\">        </span><span class=\"p\">)</span><br/><span class=\"w\">    </span><span class=\"p\">)</span><br/><span class=\"p\">)</span><br/></pre></div></td>\n",
       "      <td id=\"T_bb6fb_row5_col2\" class=\"data row5 col2\" ><img src=\"data:image/jpeg;base64,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\"></td>\n",
       "    </tr>\n",
       "  </tbody>\n",
       "</table>\n"
      ],
      "text/plain": [
       "<IPython.core.display.HTML object>"
      ]
     },
     "execution_count": 17,
     "metadata": {},
     "output_type": "execute_result"
    }
   ],
   "source": [
    "display_html_results(html_results, columns=[\"query\", \"code\", \"result\"])"
   ]
  }
 ],
 "metadata": {
  "kernelspec": {
   "display_name": "Python 3 (ipykernel)",
   "language": "python",
   "name": "python3"
  },
  "language_info": {
   "codemirror_mode": {
    "name": "ipython",
    "version": 3
   },
   "file_extension": ".py",
   "mimetype": "text/x-python",
   "name": "python",
   "nbconvert_exporter": "python",
   "pygments_lexer": "ipython3",
   "version": "3.10.2"
  }
 },
 "nbformat": 4,
 "nbformat_minor": 5
}
