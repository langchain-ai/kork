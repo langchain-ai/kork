{
 "cells": [
  {
   "cell_type": "markdown",
   "id": "5b3b1d10",
   "metadata": {
    "pycharm": {
     "name": "#%% md\n"
    }
   },
   "source": [
    "# Image Manipulation\n",
    "\n",
    "Let's built a simple image manipulation API using Pillow and an LLM!\n",
    "\n",
    "The type of supported operations are limited to the list of functions created.\n",
    "\n",
    "The list of functions was generated using chat gpt (including type annotations and doc-strings).\n",
    "\n",
    "`Kork` doesn't know how to use kwargs yet, so the doc-strings that takes kwargs were modified with an explanation of what default value to use."
   ]
  },
  {
   "cell_type": "code",
   "execution_count": 1,
   "id": "85b99fbe",
   "metadata": {
    "collapsed": false,
    "jupyter": {
     "outputs_hidden": false
    },
    "pycharm": {
     "name": "#%%\n"
    },
    "tags": [
     "remove_cell"
    ]
   },
   "outputs": [],
   "source": [
    "%load_ext autoreload\n",
    "%autoreload 2\n",
    "\n",
    "import sys\n",
    "\n",
    "sys.path.insert(0, \"../\")"
   ]
  },
  {
   "cell_type": "markdown",
   "id": "fb23bdde",
   "metadata": {
    "pycharm": {
     "name": "#%% md\n"
    }
   },
   "source": [
    "Let's install Pillow"
   ]
  },
  {
   "cell_type": "code",
   "execution_count": 2,
   "id": "fff547dd",
   "metadata": {
    "collapsed": false,
    "jupyter": {
     "outputs_hidden": false
    },
    "pycharm": {
     "name": "#%%\n"
    },
    "tags": []
   },
   "outputs": [
    {
     "name": "stdout",
     "output_type": "stream",
     "text": [
      "\n",
      "\u001b[1m[\u001b[0m\u001b[34;49mnotice\u001b[0m\u001b[1;39;49m]\u001b[0m\u001b[39;49m A new release of pip is available: \u001b[0m\u001b[31;49m23.1\u001b[0m\u001b[39;49m -> \u001b[0m\u001b[32;49m23.1.2\u001b[0m\n",
      "\u001b[1m[\u001b[0m\u001b[34;49mnotice\u001b[0m\u001b[1;39;49m]\u001b[0m\u001b[39;49m To update, run: \u001b[0m\u001b[32;49mpython3.10 -m pip install --upgrade pip\u001b[0m\n"
     ]
    }
   ],
   "source": [
    "!pip install Pillow > /dev/null"
   ]
  },
  {
   "cell_type": "code",
   "execution_count": 2,
   "id": "f5d6533a",
   "metadata": {
    "collapsed": false,
    "jupyter": {
     "outputs_hidden": false
    },
    "pycharm": {
     "name": "#%%\n"
    },
    "tags": []
   },
   "outputs": [],
   "source": [
    "from PIL import Image, ImageOps, ImageFilter"
   ]
  },
  {
   "cell_type": "markdown",
   "id": "50c116c4",
   "metadata": {
    "pycharm": {
     "name": "#%% md\n"
    }
   },
   "source": [
    "Let's create a functions manually"
   ]
  },
  {
   "cell_type": "code",
   "execution_count": 3,
   "id": "b406a2b6",
   "metadata": {
    "collapsed": false,
    "jupyter": {
     "outputs_hidden": false
    },
    "pycharm": {
     "name": "#%%\n"
    },
    "tags": []
   },
   "outputs": [],
   "source": [
    "def resize(img: Image.Image, width: int, height: int) -> Image:\n",
    "    \"\"\"Use to resize an image to the given width and height\"\"\"\n",
    "    return img.resize((width, height))\n",
    "\n",
    "\n",
    "def apply_sepia_filter(img: Image.Image) -> Image:\n",
    "    \"\"\"Apply a sepia filter.\"\"\"\n",
    "    # Convert the image to grayscale\n",
    "    grayscale_image = img.convert(\"L\")\n",
    "    # Apply sepia filter\n",
    "    sepia_image = ImageOps.colorize(grayscale_image, \"#704214\", \"#C0C090\")\n",
    "    return sepia_image"
   ]
  },
  {
   "cell_type": "markdown",
   "id": "4b9edeec",
   "metadata": {
    "pycharm": {
     "name": "#%% md\n"
    }
   },
   "source": [
    "Below is a list of functions that was created by chat gpt, so we don't have to write boiler plate by hand."
   ]
  },
  {
   "cell_type": "code",
   "execution_count": 23,
   "id": "fd65000b",
   "metadata": {
    "collapsed": false,
    "jupyter": {
     "outputs_hidden": false
    },
    "pycharm": {
     "name": "#%%\n"
    },
    "tags": []
   },
   "outputs": [],
   "source": [
    "def apply_blur(img: Image.Image, radius: int = 2) -> Image.Image:\n",
    "    \"\"\"Apply a blur filter to the image. Use default radius of 2, if not specified.\n",
    "\n",
    "    Args:\n",
    "        img (Image.Image): The input image.\n",
    "        radius (int): The blur radius. Default is 2.\n",
    "\n",
    "    Returns:\n",
    "        Image.Image: The filtered image.\n",
    "    \"\"\"\n",
    "    return img.filter(ImageFilter.GaussianBlur())\n",
    "\n",
    "\n",
    "def apply_contour(img: Image.Image) -> Image.Image:\n",
    "    \"\"\"Apply a contour filter to the image.\n",
    "\n",
    "    Args:\n",
    "        img (Image.Image): The input image.\n",
    "\n",
    "    Returns:\n",
    "        Image.Image: The filtered image.\n",
    "    \"\"\"\n",
    "    return img.filter(ImageFilter.CONTOUR())\n",
    "\n",
    "\n",
    "def apply_detail(img: Image.Image, detail: int = 2) -> Image.Image:\n",
    "    \"\"\"Apply a detail filter to the image. Use default detail of 2 if not specified.\n",
    "\n",
    "    Args:\n",
    "        img (Image.Image): The input image.\n",
    "        detail (int): The level of detail enhancement. Default is 2.\n",
    "\n",
    "    Returns:\n",
    "        Image.Image: The filtered image.\n",
    "    \"\"\"\n",
    "    return img.filter(ImageFilter.DETAIL(detail))\n",
    "\n",
    "\n",
    "def apply_edge_enhance(img: Image.Image) -> Image.Image:\n",
    "    \"\"\"Apply an edge enhance filter to the image.\n",
    "\n",
    "    Args:\n",
    "        img (Image.Image): The input image.\n",
    "\n",
    "    Returns:\n",
    "        Image.Image: The filtered image.\n",
    "    \"\"\"\n",
    "    return img.filter(ImageFilter.EDGE_ENHANCE())\n",
    "\n",
    "\n",
    "def apply_edge_enhance_more(img: Image.Image) -> Image.Image:\n",
    "    \"\"\"Apply a stronger edge enhance filter to the image.\n",
    "\n",
    "    Args:\n",
    "        img (Image.Image): The input image.\n",
    "\n",
    "    Returns:\n",
    "        Image.Image: The filtered image.\n",
    "    \"\"\"\n",
    "    return img.filter(ImageFilter.EDGE_ENHANCE_MORE())\n",
    "\n",
    "\n",
    "def apply_emboss(img: Image.Image) -> Image.Image:\n",
    "    \"\"\"Apply an emboss filter to the image.\n",
    "\n",
    "    Args:\n",
    "        img (Image.Image): The input image.\n",
    "\n",
    "    Returns:\n",
    "        Image.Image: The filtered image.\n",
    "    \"\"\"\n",
    "    return img.filter(ImageFilter.EMBOSS())\n",
    "\n",
    "\n",
    "def apply_find_edges(img: Image.Image) -> Image.Image:\n",
    "    \"\"\"Apply a find edges filter to the image.\n",
    "\n",
    "    Args:\n",
    "        img (Image.Image): The input image.\n",
    "\n",
    "    Returns:\n",
    "        Image.Image: The filtered image.\n",
    "    \"\"\"\n",
    "    return img.filter(ImageFilter.FIND_EDGES())\n",
    "\n",
    "\n",
    "def apply_sharpen(img: Image.Image, factor: int = 2) -> Image.Image:\n",
    "    \"\"\"Apply a sharpen filter to the image.\n",
    "\n",
    "    Args:\n",
    "        img (Image.Image): The input image.\n",
    "        factor (int): The sharpening factor. Default is 2.\n",
    "\n",
    "    Returns:\n",
    "        Image.Image: The filtered image.\n",
    "    \"\"\"\n",
    "    return img.filter(ImageFilter.SHARPEN(factor))\n",
    "\n",
    "\n",
    "def apply_smooth(img: Image.Image) -> Image.Image:\n",
    "    \"\"\"Apply a smooth filter to the image.\n",
    "\n",
    "    Args:\n",
    "        img (Image.Image): The input image.\n",
    "\n",
    "    Returns:\n",
    "        Image.Image: The filtered image.\n",
    "    \"\"\"\n",
    "    return img.filter(ImageFilter.SMOOTH())\n",
    "\n",
    "\n",
    "def apply_smooth_more(img: Image.Image) -> Image.Image:\n",
    "    \"\"\"Apply a stronger smooth filter to the image.\n",
    "\n",
    "    Args:\n",
    "        img (Image.Image): The input image.\n",
    "\n",
    "    Returns:\n",
    "        Image.Image: The filtered image.\n",
    "    \"\"\"\n",
    "    return img.filter(ImageFilter.SMOOTH_MORE())\n",
    "\n"
   ]
  },
  {
   "cell_type": "code",
   "execution_count": 24,
   "id": "01fbafa4",
   "metadata": {
    "collapsed": false,
    "jupyter": {
     "outputs_hidden": false
    },
    "pycharm": {
     "name": "#%%\n"
    },
    "tags": []
   },
   "outputs": [],
   "source": [
    "from typing import List, Any, Optional\n",
    "\n",
    "import langchain\n",
    "from langchain.llms import OpenAI\n",
    "\n",
    "from kork.parser import parse\n",
    "from kork import InterpreterResult, Environment, run_interpreter, CodeChain"
   ]
  },
  {
   "cell_type": "code",
   "execution_count": 25,
   "id": "2127ca65",
   "metadata": {
    "collapsed": false,
    "jupyter": {
     "outputs_hidden": false
    },
    "pycharm": {
     "name": "#%%\n"
    },
    "tags": []
   },
   "outputs": [],
   "source": [
    "llm = OpenAI(temperature=0)"
   ]
  },
  {
   "cell_type": "code",
   "execution_count": 26,
   "id": "a14ceef0",
   "metadata": {
    "collapsed": false,
    "jupyter": {
     "outputs_hidden": false
    },
    "pycharm": {
     "name": "#%%\n"
    },
    "tags": []
   },
   "outputs": [],
   "source": [
    "examples = [\n",
    "    (\"resize the image to (20, 10)\", \"var result = resize(img, 20, 10)\"),\n",
    "    (\"apply sepia filter to the image\", \"var result = apply_sepia_filter(img)\"),\n",
    "]"
   ]
  },
  {
   "cell_type": "code",
   "execution_count": 27,
   "id": "f50f0575",
   "metadata": {
    "collapsed": false,
    "jupyter": {
     "outputs_hidden": false
    },
    "pycharm": {
     "name": "#%%\n"
    },
    "tags": []
   },
   "outputs": [],
   "source": [
    "examples_in_ast = [(query, parse(code)) for query, code in examples]"
   ]
  },
  {
   "cell_type": "markdown",
   "id": "7176d256",
   "metadata": {
    "pycharm": {
     "name": "#%% md\n"
    }
   },
   "source": [
    "Let's get a test image from wikipedia."
   ]
  },
  {
   "cell_type": "code",
   "execution_count": 28,
   "id": "efe98c5d",
   "metadata": {
    "collapsed": false,
    "jupyter": {
     "outputs_hidden": false
    },
    "pycharm": {
     "name": "#%%\n"
    },
    "tags": []
   },
   "outputs": [
    {
     "data": {
      "image/png": "[encoded data removed]",
      "text/plain": [
       "<PIL.Image.Image image mode=RGB size=100x120>"
      ]
     },
     "execution_count": 28,
     "metadata": {},
     "output_type": "execute_result"
    }
   ],
   "source": [
    "from io import BytesIO\n",
    "import requests\n",
    "\n",
    "def get_image(url: str) -> Image.Image:\n",
    "    \"\"\"Get an image from the given URL.\"\"\"\n",
    "    response = requests.get(url)\n",
    "\n",
    "    # Create a PIL image from the downloaded image data\n",
    "    img = Image.open(BytesIO(response.content))\n",
    "    return img\n",
    "\n",
    "url = \"https://upload.wikimedia.org/wikipedia/commons/thumb/6/68/Orange_tabby_cat_sitting_on_fallen_leaves-Hisashi-01A.jpg/1024px-Orange_tabby_cat_sitting_on_fallen_leaves-Hisashi-01A.jpg\"\n",
    "img = get_image(url)\n",
    "resize(img, 100, 120)"
   ]
  },
  {
   "cell_type": "code",
   "execution_count": 29,
   "id": "cbd4bf04",
   "metadata": {
    "collapsed": false,
    "jupyter": {
     "outputs_hidden": false
    },
    "pycharm": {
     "name": "#%%\n"
    },
    "tags": []
   },
   "outputs": [],
   "source": [
    "funcs = [\n",
    "    apply_blur,\n",
    "    apply_contour,\n",
    "    apply_detail,\n",
    "    apply_edge_enhance,\n",
    "    apply_edge_enhance_more,\n",
    "    apply_emboss,\n",
    "    apply_find_edges,\n",
    "    apply_sharpen,\n",
    "    apply_smooth,\n",
    "    apply_smooth_more,\n",
    "    resize,\n",
    "    apply_sepia_filter,\n",
    "    get_image,\n",
    "]"
   ]
  },
  {
   "cell_type": "code",
   "execution_count": 30,
   "id": "f25b0f5d",
   "metadata": {
    "collapsed": false,
    "jupyter": {
     "outputs_hidden": false
    },
    "pycharm": {
     "name": "#%%\n"
    },
    "tags": []
   },
   "outputs": [],
   "source": [
    "chain = CodeChain.from_defaults(\n",
    "    llm=llm,\n",
    "    examples=examples_in_ast,\n",
    "    interpreter=run_interpreter,\n",
    "    context=funcs,\n",
    ")"
   ]
  },
  {
   "cell_type": "code",
   "execution_count": 31,
   "id": "c2f64cb2",
   "metadata": {
    "collapsed": false,
    "jupyter": {
     "outputs_hidden": false
    },
    "pycharm": {
     "name": "#%%\n"
    },
    "tags": []
   },
   "outputs": [],
   "source": [
    "result = chain(\n",
    "    inputs={\n",
    "        \"query\": \"resize the image to 100, 100 and blur and apply sepia\",\n",
    "        \"variables\": {\"img\": img},\n",
    "    }\n",
    ")"
   ]
  },
  {
   "cell_type": "code",
   "execution_count": 32,
   "id": "b7607ee5",
   "metadata": {
    "collapsed": false,
    "jupyter": {
     "outputs_hidden": false
    },
    "pycharm": {
     "name": "#%%\n"
    },
    "tags": []
   },
   "outputs": [],
   "source": [
    "from IPython.display import Code"
   ]
  },
  {
   "cell_type": "code",
   "execution_count": 33,
   "id": "0bd8e652",
   "metadata": {
    "collapsed": false,
    "jupyter": {
     "outputs_hidden": false
    },
    "pycharm": {
     "name": "#%%\n"
    },
    "tags": []
   },
   "outputs": [
    {
     "data": {
      "text/html": [
       "<style>pre { line-height: 125%; }\n",
       "td.linenos .normal { color: inherit; background-color: transparent; padding-left: 5px; padding-right: 5px; }\n",
       "span.linenos { color: inherit; background-color: transparent; padding-left: 5px; padding-right: 5px; }\n",
       "td.linenos .special { color: #000000; background-color: #ffffc0; padding-left: 5px; padding-right: 5px; }\n",
       "span.linenos.special { color: #000000; background-color: #ffffc0; padding-left: 5px; padding-right: 5px; }\n",
       ".output_html .hll { background-color: #ffffcc }\n",
       ".output_html { background: #f8f8f8; }\n",
       ".output_html .c { color: #3D7B7B; font-style: italic } /* Comment */\n",
       ".output_html .err { border: 1px solid #FF0000 } /* Error */\n",
       ".output_html .k { color: #008000; font-weight: bold } /* Keyword */\n",
       ".output_html .o { color: #666666 } /* Operator */\n",
       ".output_html .ch { color: #3D7B7B; font-style: italic } /* Comment.Hashbang */\n",
       ".output_html .cm { color: #3D7B7B; font-style: italic } /* Comment.Multiline */\n",
       ".output_html .cp { color: #9C6500 } /* Comment.Preproc */\n",
       ".output_html .cpf { color: #3D7B7B; font-style: italic } /* Comment.PreprocFile */\n",
       ".output_html .c1 { color: #3D7B7B; font-style: italic } /* Comment.Single */\n",
       ".output_html .cs { color: #3D7B7B; font-style: italic } /* Comment.Special */\n",
       ".output_html .gd { color: #A00000 } /* Generic.Deleted */\n",
       ".output_html .ge { font-style: italic } /* Generic.Emph */\n",
       ".output_html .gr { color: #E40000 } /* Generic.Error */\n",
       ".output_html .gh { color: #000080; font-weight: bold } /* Generic.Heading */\n",
       ".output_html .gi { color: #008400 } /* Generic.Inserted */\n",
       ".output_html .go { color: #717171 } /* Generic.Output */\n",
       ".output_html .gp { color: #000080; font-weight: bold } /* Generic.Prompt */\n",
       ".output_html .gs { font-weight: bold } /* Generic.Strong */\n",
       ".output_html .gu { color: #800080; font-weight: bold } /* Generic.Subheading */\n",
       ".output_html .gt { color: #0044DD } /* Generic.Traceback */\n",
       ".output_html .kc { color: #008000; font-weight: bold } /* Keyword.Constant */\n",
       ".output_html .kd { color: #008000; font-weight: bold } /* Keyword.Declaration */\n",
       ".output_html .kn { color: #008000; font-weight: bold } /* Keyword.Namespace */\n",
       ".output_html .kp { color: #008000 } /* Keyword.Pseudo */\n",
       ".output_html .kr { color: #008000; font-weight: bold } /* Keyword.Reserved */\n",
       ".output_html .kt { color: #B00040 } /* Keyword.Type */\n",
       ".output_html .m { color: #666666 } /* Literal.Number */\n",
       ".output_html .s { color: #BA2121 } /* Literal.String */\n",
       ".output_html .na { color: #687822 } /* Name.Attribute */\n",
       ".output_html .nb { color: #008000 } /* Name.Builtin */\n",
       ".output_html .nc { color: #0000FF; font-weight: bold } /* Name.Class */\n",
       ".output_html .no { color: #880000 } /* Name.Constant */\n",
       ".output_html .nd { color: #AA22FF } /* Name.Decorator */\n",
       ".output_html .ni { color: #717171; font-weight: bold } /* Name.Entity */\n",
       ".output_html .ne { color: #CB3F38; font-weight: bold } /* Name.Exception */\n",
       ".output_html .nf { color: #0000FF } /* Name.Function */\n",
       ".output_html .nl { color: #767600 } /* Name.Label */\n",
       ".output_html .nn { color: #0000FF; font-weight: bold } /* Name.Namespace */\n",
       ".output_html .nt { color: #008000; font-weight: bold } /* Name.Tag */\n",
       ".output_html .nv { color: #19177C } /* Name.Variable */\n",
       ".output_html .ow { color: #AA22FF; font-weight: bold } /* Operator.Word */\n",
       ".output_html .w { color: #bbbbbb } /* Text.Whitespace */\n",
       ".output_html .mb { color: #666666 } /* Literal.Number.Bin */\n",
       ".output_html .mf { color: #666666 } /* Literal.Number.Float */\n",
       ".output_html .mh { color: #666666 } /* Literal.Number.Hex */\n",
       ".output_html .mi { color: #666666 } /* Literal.Number.Integer */\n",
       ".output_html .mo { color: #666666 } /* Literal.Number.Oct */\n",
       ".output_html .sa { color: #BA2121 } /* Literal.String.Affix */\n",
       ".output_html .sb { color: #BA2121 } /* Literal.String.Backtick */\n",
       ".output_html .sc { color: #BA2121 } /* Literal.String.Char */\n",
       ".output_html .dl { color: #BA2121 } /* Literal.String.Delimiter */\n",
       ".output_html .sd { color: #BA2121; font-style: italic } /* Literal.String.Doc */\n",
       ".output_html .s2 { color: #BA2121 } /* Literal.String.Double */\n",
       ".output_html .se { color: #AA5D1F; font-weight: bold } /* Literal.String.Escape */\n",
       ".output_html .sh { color: #BA2121 } /* Literal.String.Heredoc */\n",
       ".output_html .si { color: #A45A77; font-weight: bold } /* Literal.String.Interpol */\n",
       ".output_html .sx { color: #008000 } /* Literal.String.Other */\n",
       ".output_html .sr { color: #A45A77 } /* Literal.String.Regex */\n",
       ".output_html .s1 { color: #BA2121 } /* Literal.String.Single */\n",
       ".output_html .ss { color: #19177C } /* Literal.String.Symbol */\n",
       ".output_html .bp { color: #008000 } /* Name.Builtin.Pseudo */\n",
       ".output_html .fm { color: #0000FF } /* Name.Function.Magic */\n",
       ".output_html .vc { color: #19177C } /* Name.Variable.Class */\n",
       ".output_html .vg { color: #19177C } /* Name.Variable.Global */\n",
       ".output_html .vi { color: #19177C } /* Name.Variable.Instance */\n",
       ".output_html .vm { color: #19177C } /* Name.Variable.Magic */\n",
       ".output_html .il { color: #666666 } /* Literal.Number.Integer.Long */</style><div class=\"highlight\"><pre><span></span><span class=\"k\">var</span><span class=\"w\"> </span><span class=\"n\">result</span><span class=\"w\"> </span><span class=\"o\">=</span><span class=\"w\"> </span><span class=\"n\">apply_sepia_filter</span><span class=\"p\">(</span><span class=\"n\">apply_blur</span><span class=\"p\">(</span><span class=\"n\">resize</span><span class=\"p\">(</span><span class=\"n\">img</span><span class=\"p\">,</span><span class=\"w\"> </span><span class=\"mi\">100</span><span class=\"p\">,</span><span class=\"w\"> </span><span class=\"mi\">100</span><span class=\"p\">)))</span>\n",
       "</pre></div>\n"
      ],
      "text/latex": [
       "\\begin{Verbatim}[commandchars=\\\\\\{\\}]\n",
       "\\PY{k}{var}\\PY{+w}{ }\\PY{n}{result}\\PY{+w}{ }\\PY{o}{=}\\PY{+w}{ }\\PY{n}{apply\\PYZus{}sepia\\PYZus{}filter}\\PY{p}{(}\\PY{n}{apply\\PYZus{}blur}\\PY{p}{(}\\PY{n}{resize}\\PY{p}{(}\\PY{n}{img}\\PY{p}{,}\\PY{+w}{ }\\PY{l+m+mi}{100}\\PY{p}{,}\\PY{+w}{ }\\PY{l+m+mi}{100}\\PY{p}{)}\\PY{p}{)}\\PY{p}{)}\n",
       "\\end{Verbatim}\n"
      ],
      "text/plain": [
       "var result = apply_sepia_filter(apply_blur(resize(img, 100, 100)))"
      ]
     },
     "execution_count": 33,
     "metadata": {},
     "output_type": "execute_result"
    }
   ],
   "source": [
    "Code(result[\"code\"])"
   ]
  },
  {
   "cell_type": "code",
   "execution_count": 34,
   "id": "1c4802a6",
   "metadata": {
    "collapsed": false,
    "jupyter": {
     "outputs_hidden": false
    },
    "pycharm": {
     "name": "#%%\n"
    },
    "tags": []
   },
   "outputs": [
    {
     "data": {
      "image/png": "[encoded data removed]",
      "text/plain": [
       "<PIL.Image.Image image mode=RGB size=100x100>"
      ]
     },
     "execution_count": 34,
     "metadata": {},
     "output_type": "execute_result"
    }
   ],
   "source": [
    "result[\"environment\"].get_symbol(\"result\")"
   ]
  }
 ],
 "metadata": {
  "kernelspec": {
   "display_name": "Python 3 (ipykernel)",
   "language": "python",
   "name": "python3"
  },
  "language_info": {
   "codemirror_mode": {
    "name": "ipython",
    "version": 3
   },
   "file_extension": ".py",
   "mimetype": "text/x-python",
   "name": "python",
   "nbconvert_exporter": "python",
   "pygments_lexer": "ipython3",
   "version": "3.10.2"
  }
 },
 "nbformat": 4,
 "nbformat_minor": 5
}
